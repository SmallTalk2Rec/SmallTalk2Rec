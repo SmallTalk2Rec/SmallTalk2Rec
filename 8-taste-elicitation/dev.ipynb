{
 "cells": [
  {
   "cell_type": "code",
   "execution_count": 3,
   "metadata": {},
   "outputs": [],
   "source": [
    "import os\n",
    "from dotenv import load_dotenv\n",
    "\n",
    "import openai\n",
    "\n",
    "from langchain import LLMChain, PromptTemplate\n",
    "from langchain_openai import ChatOpenAI\n",
    "from langchain.chains import ConversationChain\n",
    "\n",
    "import re\n",
    "import json"
   ]
  },
  {
   "cell_type": "code",
   "execution_count": 88,
   "metadata": {},
   "outputs": [],
   "source": [
    "load_dotenv()\n",
    "api_key = os.getenv('OPENAI_API_KEY')\n",
    "openai.api_key = api_key\n",
    "\n",
    "manager = ChatOpenAI(\n",
    "    model = 'gpt-4o-mini',\n",
    "    temperature = 0\n",
    ")"
   ]
  },
  {
   "cell_type": "markdown",
   "metadata": {},
   "source": [
    "# 0) Subtask Manager\n",
    "\n",
    "지난 주에 구현했던 subtask manager를 간추려서 만듦\n",
    "\n",
    "- 이전\n",
    "  - subtask, sutask_arguments, output_type 등으로 스키마가 복잡하고 manger가 subtask를 일부 실행하는 듯 했음\n",
    "  - list, schema, demonstration 전달\n",
    "- 이후\n",
    "  - 오직 subtask만 추려내고, expert model에 subtask schema가 아닌 user query를 그대로 전달함\n",
    "  - list, demonstration 전달"
   ]
  },
  {
   "cell_type": "code",
   "execution_count": 95,
   "metadata": {},
   "outputs": [],
   "source": [
    "## subtask manager\n",
    "\n",
    "hj_subtask = '''The AI assistant should analyze the dialogue context to detect which sub-task should be selected.\n",
    "\n",
    "Sub-task name: It provides a unique identifier for sub-task detection, which is used for references to related expert models and their predicted results.\n",
    "Thess are the subtask lists. [ User preference elicitation, Recommendation, Explanation, Item detail search ]\n",
    "\n",
    "There are some cases for your reference.\n",
    "\n",
    "user_query: I want to find a legal drama\n",
    "answer: user preference elicitation\n",
    "\n",
    "user_query: I want the female actor as the lead role\n",
    "answer: recommendation\n",
    "\n",
    "user_query: Why do you recommend it to me?\n",
    "answer: explanation\n",
    "\n",
    "user_query: OK. what timeframe is it?\n",
    "answer: item detail research\n",
    "\n",
    "Which sub-task should be selected? The sub-task MUST be selected from the above list.\n",
    "user_query: {query}\n",
    "answer: \n",
    "'''"
   ]
  },
  {
   "cell_type": "code",
   "execution_count": 101,
   "metadata": {},
   "outputs": [],
   "source": [
    "def subtask_detect(query):\n",
    "    '''\n",
    "    subtask detection module\n",
    "    input\n",
    "        query: 유저 입력문\n",
    "    '''\n",
    "\n",
    "    subtask_detection_prompt = PromptTemplate(\n",
    "        template  = hj_subtask,\n",
    "        input_variables = ['query']\n",
    "    )\n",
    "\n",
    "    # Chain 정의\n",
    "    chain = LLMChain(\n",
    "        llm = manager,\n",
    "        prompt = subtask_detection_prompt\n",
    "    )\n",
    "\n",
    "    result = chain.invoke({'query':query}) # chain 실행\n",
    "    return result['text']"
   ]
  },
  {
   "cell_type": "code",
   "execution_count": 121,
   "metadata": {},
   "outputs": [
    {
     "name": "stdout",
     "output_type": "stream",
     "text": [
      "user preference elicitation\n"
     ]
    }
   ],
   "source": [
    "subtask_type = subtask_detect('여름에 어울리는 영화 추천해줘')\n",
    "print(subtask_type)"
   ]
  },
  {
   "cell_type": "markdown",
   "metadata": {},
   "source": [
    "# 1) Taste Elicitation\n",
    "\n",
    "    1. 발화에서 유저의 선호 파악하기\n",
    "    2. 영화제목이라면 정확한 제목으로 mapping 하기"
   ]
  },
  {
   "cell_type": "code",
   "execution_count": 104,
   "metadata": {},
   "outputs": [],
   "source": [
    "## taste elicitation\n",
    "\n",
    "mk_scoring = \"\"\"\n",
    "You are a movie preference evaluator. When a user provides a preference for a specific movie, you will assess the given movie and return a JSON object that details the user's preference evaluation using English.\n",
    "\n",
    "The answer should include the following fields:\n",
    "\n",
    "content: Categorize the content among [director, actor, genre, movie_title]\n",
    "item: A name of the content\n",
    "preference_score: A numerical score indicating how much the user prefers the movie on a scale of 1 to 10.\n",
    "comments: A brief explanation or comments about why the user has this preference score for the movie.\n",
    "\n",
    "user input: 어제 에일리언을 봤는데 꽤 재밌더라구. 엄청 흥미진진해서 시간가는 줄 몰랐어\n",
    "answer: \n",
    " 'content': 'movie_title'\n",
    " 'item': 'Alien',\n",
    " 'preference_score': 8,\n",
    " 'comments': 'The user found 'Alien' to be quite entertaining and thrilling, indicating a strong engagement with the film's suspenseful elements.'\n",
    "\n",
    "user input: 내가 가장 좋아하는 장르는 로맨스야. 절절한 사랑 이야기가 너무 좋아\n",
    "answer: \n",
    " 'content':'genre',\n",
    " 'item': 'romance',\n",
    " 'preference_score': 9,\n",
    " 'comments': 'The user loves heartfelt love stories which beautifully captures deep emotional connections and enduring love.'\n",
    "\n",
    "user input: \"신과함께 같은 영화는 너무 싫어.... 신파가 너무 많아\")\n",
    " 'content':'movie_title',\n",
    " 'item': '신과함께',\n",
    " 'preference_score': 2,\n",
    " 'comments': 'The user dislikes this movie due to its excessive melodrama, which they find overwhelming.'\n",
    "\n",
    "user input: {query}\n",
    "answer: \n",
    "\"\"\""
   ]
  },
  {
   "cell_type": "code",
   "execution_count": 109,
   "metadata": {},
   "outputs": [],
   "source": [
    "# 유저의 taste elicit 하기\n",
    "def taste_elicit(query):\n",
    "\n",
    "    taste_elicitation = PromptTemplate(\n",
    "        template  = mk_scoring,\n",
    "        input_variables = ['query']\n",
    "    )\n",
    "\n",
    "    # Chain 정의\n",
    "    chain = LLMChain(\n",
    "        llm = manager,\n",
    "        prompt = taste_elicitation\n",
    "    )\n",
    "\n",
    "    result = chain.invoke({'query': query}) # chain 실행\n",
    "\n",
    "    pattern = r'^```json\\s*|\\s*```$'\n",
    "    cleaned_text = re.sub(pattern, '', result['text'], flags=re.DOTALL).strip()\n",
    "    parsed_data = json.loads(cleaned_text)\n",
    "\n",
    "    return parsed_data"
   ]
  },
  {
   "cell_type": "code",
   "execution_count": 125,
   "metadata": {},
   "outputs": [],
   "source": [
    "user_profile = {\n",
    "    'movie_title': [],\n",
    "    'director': [],\n",
    "    'actor': [],\n",
    "    'requirements': [],\n",
    "    'genre': []\n",
    "}"
   ]
  },
  {
   "cell_type": "code",
   "execution_count": 126,
   "metadata": {},
   "outputs": [
    {
     "data": {
      "text/plain": [
       "{'movie_title': [],\n",
       " 'director': [],\n",
       " 'actor': [],\n",
       " 'requirements': [],\n",
       " 'genre': [('summer', 7)]}"
      ]
     },
     "execution_count": 126,
     "metadata": {},
     "output_type": "execute_result"
    }
   ],
   "source": [
    "temp = taste_elicit('여름에 어울리는 영화 추천해줘')\n",
    "user_profile[temp['content']].append((temp['item'], temp['preference_score']))\n",
    "user_profile"
   ]
  },
  {
   "cell_type": "markdown",
   "metadata": {},
   "source": [
    "# 2) Reply Bot\n",
    "\n",
    "### 필요한 최소 정보들 목록 -> 없으면 질문하기\n",
    "- 장르\n",
    "- 감독\n",
    "- 배우\n",
    "- 선호하는 영화들 목록\n",
    "- 요구사항"
   ]
  },
  {
   "cell_type": "code",
   "execution_count": 136,
   "metadata": {},
   "outputs": [
    {
     "name": "stdout",
     "output_type": "stream",
     "text": [
      "what are your favorite movie_title?\n",
      "what are your favorite director?\n",
      "what are your favorite actor?\n",
      "what are your favorite requirements?\n"
     ]
    }
   ],
   "source": [
    "# chainlit으로 전달하기\n",
    "\n",
    "for content in user_profile:\n",
    "    if len(user_profile[content]) == 0:\n",
    "        print(f'what are your favorite {content}?')\n"
   ]
  },
  {
   "cell_type": "code",
   "execution_count": null,
   "metadata": {},
   "outputs": [],
   "source": [
    "def reply(profile):\n",
    "\n",
    "    for k in profile:\n",
    "        if len(profile[k]) == 0:\n",
    "            \n",
    "            # ask about it?\n",
    "            # ex) what are your favorite {contents}?\n",
    "    \n",
    "        "
   ]
  }
 ],
 "metadata": {
  "kernelspec": {
   "display_name": "pytorch",
   "language": "python",
   "name": "python3"
  },
  "language_info": {
   "codemirror_mode": {
    "name": "ipython",
    "version": 3
   },
   "file_extension": ".py",
   "mimetype": "text/x-python",
   "name": "python",
   "nbconvert_exporter": "python",
   "pygments_lexer": "ipython3",
   "version": "3.12.2"
  },
  "orig_nbformat": 4
 },
 "nbformat": 4,
 "nbformat_minor": 2
}
