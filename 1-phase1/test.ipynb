{
 "cells": [
  {
   "cell_type": "code",
   "execution_count": 1,
   "metadata": {},
   "outputs": [],
   "source": [
    "import os\n",
    "from dotenv import load_dotenv\n",
    "\n",
    "# .env 파일의 환경 변수 로드\n",
    "load_dotenv()\n",
    "\n",
    "# 환경 변수 가져오기\n",
    "openai_api_key = os.getenv(\"OPENAI_API_KEY\")"
   ]
  },
  {
   "cell_type": "code",
   "execution_count": 23,
   "metadata": {},
   "outputs": [],
   "source": [
    "# 필요한 라이브러리 설치\n",
    "\n",
    "import openai\n",
    "from langchain.prompts import PromptTemplate\n",
    "from langchain_openai import ChatOpenAI\n",
    "\n",
    "# OpenAI LLM을 이용한 LangChain 구성\n",
    "llm = ChatOpenAI(api_key=openai_api_key,\n",
    "                 temperature=0.0, \n",
    "                 model='gpt-4o-mini')"
   ]
  },
  {
   "cell_type": "markdown",
   "metadata": {},
   "source": [
    "### 유저의 입력 혹은 대화기록에서 선호도 데이터를 추출"
   ]
  },
  {
   "cell_type": "markdown",
   "metadata": {},
   "source": [
    "#### 유저의 입력에 대해서"
   ]
  },
  {
   "cell_type": "code",
   "execution_count": 48,
   "metadata": {},
   "outputs": [],
   "source": [
    "prompt = \"\"\"You are a movie preference evaluator. When a user provides a preference for a specific movie, you will assess the given movie and return a JSON object that details the user's preference evaluation using English. The JSON object should include the following fields:\n",
    "movie_title: The title of the movie based on user input.\n",
    "preference_score: A numerical score indicating how much the user prefers the movie on a scale of 1 to 10.\n",
    "comments: A brief explanation or comments about why the user has this preference score for the movie.\n",
    "\n",
    "user input: {query}\n",
    "JSON object: \n",
    "\"\"\"\n",
    "\n",
    "prompt_template = PromptTemplate(template=prompt, input_variables=[\"query\"])"
   ]
  },
  {
   "cell_type": "code",
   "execution_count": 49,
   "metadata": {},
   "outputs": [],
   "source": [
    "preference_eliction_chain = prompt_template | llm"
   ]
  },
  {
   "cell_type": "code",
   "execution_count": 50,
   "metadata": {},
   "outputs": [],
   "source": [
    "result_json = preference_eliction_chain.invoke({\"query\":\"나는 어바웃타임을 진짜 너무 좋아해\"}).content"
   ]
  },
  {
   "cell_type": "code",
   "execution_count": 42,
   "metadata": {},
   "outputs": [
    {
     "name": "stdout",
     "output_type": "stream",
     "text": [
      "Movie Title: 어바웃 타임\n",
      "Preference Score: 9\n",
      "Comments: 사용자는 어바웃 타임을 진짜 너무 좋아한다고 표현했으며, 이는 영화의 감정적 깊이와 시간 여행의 독특한 접근 방식에 대한 강한 애정을 나타냅니다.\n"
     ]
    }
   ],
   "source": [
    "import re\n",
    "import json\n",
    "\n",
    "# Regular expression to remove only the 'json' language identifier but keep the triple backticks\n",
    "pattern = r'^```json\\s*|\\s*```$'\n",
    "\n",
    "# Remove the 'json' identifier using re.sub\n",
    "cleaned_text = re.sub(pattern, '', result_json, flags=re.DOTALL).strip()\n",
    "\n",
    "# Parse the JSON string into a Python dictionary\n",
    "parsed_data = json.loads(cleaned_text)\n",
    "\n",
    "# Accessing the data\n",
    "movie_title = parsed_data['movie_title']\n",
    "preference_score = parsed_data['preference_score']\n",
    "comments = parsed_data['comments']\n",
    "\n",
    "# Print the values\n",
    "print(f\"Movie Title: {movie_title}\")\n",
    "print(f\"Preference Score: {preference_score}\")\n",
    "print(f\"Comments: {comments}\")"
   ]
  },
  {
   "cell_type": "code",
   "execution_count": 46,
   "metadata": {},
   "outputs": [],
   "source": [
    "# 함수로 정리해서 테스트\n",
    "from typing import Dict\n",
    "\n",
    "def get_preferece(query: str) -> Dict[str, str]:\n",
    "    \n",
    "    def post_process(result: str) -> Dict[str, str]:\n",
    "        # Regular expression to remove only the 'json' language identifier but keep the triple backticks\n",
    "        pattern = r'^```json\\s*|\\s*```$'\n",
    "\n",
    "        # Remove the 'json' identifier using re.sub\n",
    "        cleaned_text = re.sub(pattern, '', result, flags=re.DOTALL).strip()\n",
    "\n",
    "        # Parse the JSON string into a Python dictionary\n",
    "        parsed_data = json.loads(cleaned_text)\n",
    "        \n",
    "        return parsed_data\n",
    "    \n",
    "    llm_return = preference_eliction_chain.invoke({\"query\":query}).content\n",
    "    result_json = post_process(llm_return)\n",
    "    \n",
    "    return result_json"
   ]
  },
  {
   "cell_type": "code",
   "execution_count": 47,
   "metadata": {},
   "outputs": [
    {
     "data": {
      "text/plain": [
       "{'movie_title': 'Alien',\n",
       " 'preference_score': 8,\n",
       " 'comments': \"The user found 'Alien' to be quite entertaining and thrilling, indicating a strong engagement with the film's suspenseful elements.\"}"
      ]
     },
     "execution_count": 47,
     "metadata": {},
     "output_type": "execute_result"
    }
   ],
   "source": [
    "get_preferece(\"어제 에일리언을 봤는데 꽤 재밌더라구. 엄청 흥미진진해서 시간가는 줄 몰랐어\")"
   ]
  },
  {
   "cell_type": "code",
   "execution_count": 51,
   "metadata": {},
   "outputs": [
    {
     "data": {
      "text/plain": [
       "{'movie_title': 'About Time',\n",
       " 'preference_score': 9,\n",
       " 'comments': \"The user expresses a strong affection for 'About Time', indicating it resonates deeply with them, likely due to its heartfelt story and themes of love and time.\"}"
      ]
     },
     "execution_count": 51,
     "metadata": {},
     "output_type": "execute_result"
    }
   ],
   "source": [
    "get_preferece(\"나는 어바웃타임을 진짜 너무 좋아해\")"
   ]
  },
  {
   "cell_type": "code",
   "execution_count": 52,
   "metadata": {},
   "outputs": [
    {
     "data": {
      "text/plain": [
       "{'movie_title': '신과함께',\n",
       " 'preference_score': 2,\n",
       " 'comments': 'The user dislikes this movie due to its excessive melodrama, which they find overwhelming.'}"
      ]
     },
     "execution_count": 52,
     "metadata": {},
     "output_type": "execute_result"
    }
   ],
   "source": [
    "get_preferece(\"신과함께 같은 영화는 너무 싫어.... 신파가 너무 많아\")"
   ]
  },
  {
   "cell_type": "code",
   "execution_count": 54,
   "metadata": {},
   "outputs": [
    {
     "data": {
      "text/plain": [
       "{'movie_title': 'The Notebook',\n",
       " 'preference_score': 9,\n",
       " 'comments': \"The user loves heartfelt love stories, and 'The Notebook' is a quintessential romantic film that beautifully captures deep emotional connections and enduring love.\"}"
      ]
     },
     "execution_count": 54,
     "metadata": {},
     "output_type": "execute_result"
    }
   ],
   "source": [
    "get_preferece(\"내가 가장 좋아하는 영화는 노트북이야. 절절한 사랑 이야기가 너무 좋아\")"
   ]
  },
  {
   "cell_type": "code",
   "execution_count": null,
   "metadata": {},
   "outputs": [],
   "source": []
  }
 ],
 "metadata": {
  "kernelspec": {
   "display_name": "bnvitt-chatbot",
   "language": "python",
   "name": "python3"
  },
  "language_info": {
   "codemirror_mode": {
    "name": "ipython",
    "version": 3
   },
   "file_extension": ".py",
   "mimetype": "text/x-python",
   "name": "python",
   "nbconvert_exporter": "python",
   "pygments_lexer": "ipython3",
   "version": "3.10.8"
  }
 },
 "nbformat": 4,
 "nbformat_minor": 2
}
